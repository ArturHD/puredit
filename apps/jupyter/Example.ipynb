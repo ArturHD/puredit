{
 "cells": [
  {
   "cell_type": "code",
   "execution_count": 17,
   "id": "d2b74a6c-2105-45ef-a784-edf5d69ae790",
   "metadata": {},
   "outputs": [],
   "source": [
    "class Column(object):\n",
    "    def __init__(self, tableName, columnName):\n",
    "        self.tableName = tableName\n",
    "        self.columnName = columnName\n",
    "\n",
    "    def replace(self, target, replacement):\n",
    "        print(f\"REPLACE {target} IN {self.tableName}.{self.columnName} WITH {replacement}\")\n",
    "\n",
    "    def trim(self, direction):\n",
    "        print(f\"TRIM {self.tableName}.{self.columnName} ON {direction}\")\n",
    "\n",
    "class Table(object):\n",
    "    def __init__(self, tableName):\n",
    "        self.tableName = tableName\n",
    "\n",
    "    def column(self, columnName):\n",
    "        return Column(self.tableName, columnName)\n",
    "\n",
    "class ChangeBlock(object):\n",
    "    def __init__(self, tableName):\n",
    "        self.tableName = tableName\n",
    "\n",
    "    def __enter__(self):\n",
    "        return Table(self.tableName)\n",
    "\n",
    "    def __exit__(self, *args):\n",
    "        pass\n",
    "\n",
    "class Database(object):\n",
    "    def __init__(self):\n",
    "        pass\n",
    "\n",
    "    def change(self, tableName):\n",
    "        return ChangeBlock(tableName)\n",
    "\n",
    "db = Database()"
   ]
  },
  {
   "cell_type": "code",
   "execution_count": 18,
   "id": "8f62bcd3-11f1-4e78-9c9e-355647fcbb20",
   "metadata": {
    "tags": []
   },
   "outputs": [
    {
     "name": "stdout",
     "output_type": "stream",
     "text": [
      "REPLACE Mister IN students.firstName WITH Mr.\n",
      "TRIM students.secondName ON right\n"
     ]
    }
   ],
   "source": [
    "def x(input, name):\n",
    "    print(\"Hello world!\")\n",
    "    if True:\n",
    "        while 2 < 1:\n",
    "            with db.change(\"lectures\") as table:\n",
    "                table.column(\"lecturer\").replace(\"<target>\", \"<value>\")\n",
    "                table.column(\"name\").trim(\"both\")\n",
    "\n",
    "\n",
    "with db.change(\"students\") as table:\n",
    "    table.column(\"firstName\").replace(\"Mister\", \"Mr.\")\n",
    "    table.column(\"secondName\").trim(\"right\")\n",
    "\n",
    "y = 42\n",
    "y + 10\n",
    "\n",
    "if y > 42:\n",
    "    x = 3\n"
   ]
  },
  {
   "cell_type": "code",
   "execution_count": null,
   "id": "cdffe7fd-0366-4f81-ade3-d111be16c0b8",
   "metadata": {},
   "outputs": [],
   "source": []
  }
 ],
 "metadata": {
  "kernelspec": {
   "display_name": "Python 3 (ipykernel)",
   "language": "python",
   "name": "python3"
  },
  "language_info": {
   "codemirror_mode": {
    "name": "ipython",
    "version": 3
   },
   "file_extension": ".py",
   "mimetype": "text/x-python",
   "name": "python",
   "nbconvert_exporter": "python",
   "pygments_lexer": "ipython3",
   "version": "3.10.2"
  }
 },
 "nbformat": 4,
 "nbformat_minor": 5
}
