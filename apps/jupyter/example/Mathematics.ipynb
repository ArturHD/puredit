{
 "cells": [
  {
   "cell_type": "code",
   "execution_count": 1,
   "id": "1d5074e8-2be9-4ea4-a94e-8908da3414eb",
   "metadata": {},
   "outputs": [],
   "source": [
    "import puredit.mathdsl as mathdsl"
   ]
  },
  {
   "cell_type": "code",
   "execution_count": 2,
   "id": "7fdc9e16-da21-43f3-af57-10249e81d17b",
   "metadata": {},
   "outputs": [
    {
     "data": {
      "text/plain": [
       "198.28608468538772"
      ]
     },
     "execution_count": 2,
     "metadata": {},
     "output_type": "execute_result"
    }
   ],
   "source": [
    "# Math term transformed into function\n",
    "f, args = mathdsl.compile(\"20\\\\pi^2+\\\\sin x\")\n",
    "f(x=90)"
   ]
  },
  {
   "cell_type": "code",
   "execution_count": 3,
   "id": "d9c301ae-f2e7-4791-b354-9839b1a9018f",
   "metadata": {},
   "outputs": [
    {
     "data": {
      "text/plain": [
       "array([[ 0.87758256, -0.47942554],\n",
       "       [ 0.47942554,  0.87758256]])"
      ]
     },
     "execution_count": 3,
     "metadata": {},
     "output_type": "execute_result"
    }
   ],
   "source": [
    "# Math term with a matrix\n",
    "rotation, args = mathdsl.compile(\"\\\\begin{pmatrix}\\\\cos\\\\theta & -\\\\sin\\\\theta \\\\\\\\ \\\\sin\\\\theta & \\\\cos\\\\theta\\\\end{pmatrix}\")\n",
    "rotation(theta=0.5)"
   ]
  },
  {
   "cell_type": "code",
   "execution_count": 4,
   "id": "0249519f-f0d7-4d93-8cb8-e68a82239bd6",
   "metadata": {},
   "outputs": [
    {
     "data": {
      "text/plain": [
       "3125"
      ]
     },
     "execution_count": 4,
     "metadata": {},
     "output_type": "execute_result"
    }
   ],
   "source": [
    "# Math term evaluated immediately, using variables from local scope\n",
    "r = 5\n",
    "x = mathdsl.evaluate(\"r^r\", locals())\n",
    "x"
   ]
  }
 ],
 "metadata": {
  "kernelspec": {
   "display_name": "Python 3 (ipykernel)",
   "language": "python",
   "name": "python3"
  },
  "language_info": {
   "codemirror_mode": {
    "name": "ipython",
    "version": 3
   },
   "file_extension": ".py",
   "mimetype": "text/x-python",
   "name": "python",
   "nbconvert_exporter": "python",
   "pygments_lexer": "ipython3",
   "version": "3.10.5"
  },
  "vscode": {
   "interpreter": {
    "hash": "ae98086f26678713ad8f88423586f7d9ff34c4bd4f228788852091e32b840b0d"
   }
  }
 },
 "nbformat": 4,
 "nbformat_minor": 5
}
