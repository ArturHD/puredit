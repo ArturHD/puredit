{
 "cells": [
  {
   "cell_type": "code",
   "execution_count": 1,
   "id": "1d5074e8-2be9-4ea4-a94e-8908da3414eb",
   "metadata": {},
   "outputs": [],
   "source": [
    "from puredit import mathdsl"
   ]
  },
  {
   "cell_type": "code",
   "execution_count": 2,
   "id": "7fdc9e16-da21-43f3-af57-10249e81d17b",
   "metadata": {},
   "outputs": [
    {
     "data": {
      "text/plain": [
       "132.84088811437186"
      ]
     },
     "execution_count": 2,
     "metadata": {},
     "output_type": "execute_result"
    }
   ],
   "source": [
    "# Math term transformed into function\n",
    "f, args = mathdsl.compile(\"42\\\\pi+\\\\sin x\")\n",
    "f(x=90)"
   ]
  },
  {
   "cell_type": "code",
   "execution_count": 3,
   "id": "d9c301ae-f2e7-4791-b354-9839b1a9018f",
   "metadata": {},
   "outputs": [
    {
     "data": {
      "text/plain": [
       "array([[ 0.87758256, -0.47942554],\n",
       "       [ 0.47942554,  0.87758256]])"
      ]
     },
     "execution_count": 3,
     "metadata": {},
     "output_type": "execute_result"
    }
   ],
   "source": [
    "# Math term with a matrix\n",
    "rotation, args = mathdsl.compile(\"\\\\begin{pmatrix}\\\\cos\\\\theta & -\\\\sin\\\\theta \\\\\\\\ \\\\sin\\\\theta & \\\\cos\\\\theta\\\\end{pmatrix}\")\n",
    "rotation(theta=0.5)"
   ]
  },
  {
   "cell_type": "code",
   "execution_count": 4,
   "id": "0249519f-f0d7-4d93-8cb8-e68a82239bd6",
   "metadata": {},
   "outputs": [
    {
     "data": {
      "text/plain": [
       "157.07963267948966"
      ]
     },
     "execution_count": 4,
     "metadata": {},
     "output_type": "execute_result"
    }
   ],
   "source": [
    "# Math term evaluated immediately, using variables from local scope\n",
    "r = 5\n",
    "x = mathdsl.evaluate(\"2\\\\pi r^2\", locals())\n",
    "x"
   ]
  }
 ],
 "metadata": {
  "kernelspec": {
   "display_name": "Python 3 (ipykernel)",
   "language": "python",
   "name": "python3"
  },
  "language_info": {
   "codemirror_mode": {
    "name": "ipython",
    "version": 3
   },
   "file_extension": ".py",
   "mimetype": "text/x-python",
   "name": "python",
   "nbconvert_exporter": "python",
   "pygments_lexer": "ipython3",
   "version": "3.10.4"
  }
 },
 "nbformat": 4,
 "nbformat_minor": 5
}
