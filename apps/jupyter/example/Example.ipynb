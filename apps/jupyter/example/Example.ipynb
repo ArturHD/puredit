{
 "cells": [
  {
   "cell_type": "code",
   "execution_count": 1,
   "id": "8f62bcd3-11f1-4e78-9c9e-355647fcbb20",
   "metadata": {
    "tags": []
   },
   "outputs": [
    {
     "name": "stdout",
     "output_type": "stream",
     "text": [
      "UPDATE students SET firstName = REPLACE(firstName, 'Mister', 'Mr.')\n",
      "UPDATE students SET secondName = RTRIM(students)\n"
     ]
    }
   ],
   "source": [
    "from dsl import db\n",
    "\n",
    "def x(input, name):\n",
    "    print(\"Hello world!\")\n",
    "    if True:\n",
    "        while 2 < 1:\n",
    "            with db.change(\"lectures\") as table:\n",
    "                table.column(\"lecturer\").replace(\"<target>\", \"<value>\")\n",
    "                table.column(\"name\").trim(\"both\")\n",
    "\n",
    "\n",
    "with db.change(\"students\") as table:\n",
    "    table.column(\"firstName\").replace(\"Mister\", \"Mr.\")\n",
    "    table.column(\"secondName\").trim(\"right\")\n",
    "\n",
    "y = 42\n",
    "y + 10\n",
    "\n",
    "if y > 42:\n",
    "    x = 3\n"
   ]
  },
  {
   "cell_type": "code",
   "execution_count": null,
   "id": "cdffe7fd-0366-4f81-ade3-d111be16c0b8",
   "metadata": {},
   "outputs": [],
   "source": []
  }
 ],
 "metadata": {
  "kernelspec": {
   "display_name": "Python 3 (ipykernel)",
   "language": "python",
   "name": "python3"
  },
  "language_info": {
   "codemirror_mode": {
    "name": "ipython",
    "version": 3
   },
   "file_extension": ".py",
   "mimetype": "text/x-python",
   "name": "python",
   "nbconvert_exporter": "python",
   "pygments_lexer": "ipython3",
   "version": "3.9.10"
  }
 },
 "nbformat": 4,
 "nbformat_minor": 5
}
